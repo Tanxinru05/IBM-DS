{
 "cells": [
  {
   "cell_type": "markdown",
   "id": "2db40c19-826c-4990-a402-b4207be8ab2e",
   "metadata": {},
   "source": [
    "Data Science Tools and Ecosystem\n",
    "\n",
    "In this notebook, Data Science Tools and Ecosystem are summarized."
   ]
  },
  {
   "cell_type": "markdown",
   "id": "e016a803-6a7e-4bc7-be87-5a0b8d16c17d",
   "metadata": {},
   "source": [
    "Some of the popular languages that Data Scientists use are:\n",
    "Python\n",
    "SQL\n",
    "R"
   ]
  },
  {
   "cell_type": "markdown",
   "id": "44b436b6-4165-40ee-83a6-ada1c98fcf2d",
   "metadata": {},
   "source": [
    "Some of the commonly used libraries used by Data Scientists include:\n",
    "\n",
    "\n",
    "Pandas\n",
    "Sckit-learn\n",
    "Numpy\n"
   ]
  },
  {
   "cell_type": "markdown",
   "id": "ff66f5ba-89a9-4532-9df5-1339e3a2d5c0",
   "metadata": {},
   "source": [
    "Data Science Tools:\n",
    "Microsoft Power BI\n",
    "Python \n",
    "SAS"
   ]
  },
  {
   "cell_type": "markdown",
   "id": "e9656d0e-4e44-4dc1-9365-0322e36c0694",
   "metadata": {},
   "source": [
    "Below are a few examples of evaluating arithmetic expressions in Python:\n"
   ]
  },
  {
   "cell_type": "code",
   "execution_count": 2,
   "id": "1983bc74-c2a8-498f-8770-e7787e60f51a",
   "metadata": {},
   "outputs": [
    {
     "name": "stdout",
     "output_type": "stream",
     "text": [
      "17\n"
     ]
    }
   ],
   "source": [
    "x = (3*4)+5\n",
    "print (x)"
   ]
  },
  {
   "cell_type": "code",
   "execution_count": 3,
   "id": "9449317c-acc7-4021-8756-d5252e9eae4c",
   "metadata": {},
   "outputs": [
    {
     "name": "stdout",
     "output_type": "stream",
     "text": [
      "3.3333333333333335  hours\n"
     ]
    }
   ],
   "source": [
    "#This will convert 200 minutes to hours by diving by 60.\n",
    "i = 200 \n",
    "x = i / 60 \n",
    "print (x , \" hours\")"
   ]
  },
  {
   "cell_type": "markdown",
   "id": "b4ee5200-2ec2-44a1-8e84-df63bd3b1c20",
   "metadata": {},
   "source": [
    "Objectives:\n",
    "\n",
    "- List popular languages for Data Science"
   ]
  },
  {
   "cell_type": "markdown",
   "id": "46ca5f08-1869-45ff-9ad3-a5bb19868deb",
   "metadata": {},
   "source": [
    "Author:\n",
    "\n",
    "Xin Ru"
   ]
  },
  {
   "cell_type": "code",
   "execution_count": null,
   "id": "c216cbdc-1e7c-47d7-9f55-ebbe0f0aa3d3",
   "metadata": {},
   "outputs": [],
   "source": []
  }
 ],
 "metadata": {
  "kernelspec": {
   "display_name": "Python 3 (ipykernel)",
   "language": "python",
   "name": "python3"
  },
  "language_info": {
   "codemirror_mode": {
    "name": "ipython",
    "version": 3
   },
   "file_extension": ".py",
   "mimetype": "text/x-python",
   "name": "python",
   "nbconvert_exporter": "python",
   "pygments_lexer": "ipython3",
   "version": "3.12.6"
  }
 },
 "nbformat": 4,
 "nbformat_minor": 5
}
